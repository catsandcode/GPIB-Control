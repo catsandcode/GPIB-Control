{
 "cells": [
  {
   "cell_type": "code",
   "execution_count": null,
   "metadata": {},
   "outputs": [],
   "source": [
    "#Import libraries\n",
    "import numpy as np\n",
    "from matplotlib import pyplot as plt\n",
    "\n",
    "from control import daq, experiment_wrapper\n",
    "\n",
    "daq.sweep_parameter(experiment_wrapper.set_freq_synth_frequency, daq.generate_frequency_list(12.5,16.5,4))\n",
    "\"\"\"\n",
    "#Load array\n",
    "ar0 = np.load('data/no_virginia_diode.npz')\n",
    "\n",
    "data = ar0['data']\n",
    "\n",
    "plt.figure(0)\n",
    "plt.hist(data[:,1], 50)\n",
    "plt.figure(1)\n",
    "plt.hist(data[:,2], 50)\n",
    "plt.show()\n",
    "\"\"\""
   ]
  },
  {
   "cell_type": "code",
   "execution_count": null,
   "metadata": {
    "collapsed": true
   },
   "outputs": [],
   "source": []
  }
 ],
 "metadata": {
  "kernelspec": {
   "display_name": "Python 2",
   "language": "python",
   "name": "python2"
  },
  "language_info": {
   "codemirror_mode": {
    "name": "ipython",
    "version": 2
   },
   "file_extension": ".py",
   "mimetype": "text/x-python",
   "name": "python",
   "nbconvert_exporter": "python",
   "pygments_lexer": "ipython2",
   "version": "2.7.13"
  }
 },
 "nbformat": 4,
 "nbformat_minor": 1
}
